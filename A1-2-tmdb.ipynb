{
 "cells": [
  {
   "cell_type": "markdown",
   "metadata": {},
   "source": [
    "# Assignment 1-2: Data Collection Using Web APIs"
   ]
  },
  {
   "cell_type": "markdown",
   "metadata": {},
   "source": [
    "## Objective"
   ]
  },
  {
   "cell_type": "markdown",
   "metadata": {},
   "source": [
    "Many Websites (such as Twitter, Yelp, Spotify) provide free APIs to allow users to access their data. *API wrappers* simplify the use of these APIs by wrapping API calls into easy-to-use Python functions. At SFU, we are developing a unified API wrapper, called [DataPrep.Connector](https://docs.dataprep.ai/user_guide/connector/introduction.html#userguide-connector), which offers a unified programming interface to collect data from a variety of Web APIs.\n",
    "\n",
    "In this assignment, you will learn the following:\n",
    "\n",
    "* How to ask insightful questions about data\n",
    "* How to collect data from Web APIs using DataPrep.Connector\n",
    "\n",
    "**Requirements:**\n",
    "\n",
    "1. Please use [pandas.DataFrame](http://pandas.pydata.org/pandas-docs/stable/generated/pandas.DataFrame.html) rather than spark.DataFrame to manipulate data.\n",
    "\n",
    "2. Please follow the python code style (https://www.python.org/dev/peps/pep-0008/). If TA finds your code hard to read, you will lose points. This requirement will stay for the whole semester."
   ]
  },
  {
   "cell_type": "markdown",
   "metadata": {},
   "source": [
    "## Preliminary"
   ]
  },
  {
   "cell_type": "markdown",
   "metadata": {},
   "source": [
    "DataPrep.Connector is very easy to learn. By watching this 10-min [PyData Global 2020 talk](https://www.youtube.com/watch?v=56qu-0Ka-dA), you should be able to know how to use it. \n",
    "\n",
    "If you want to know more, below are some other useful resources.\n",
    "\n",
    "* [Quick Introduction](https://github.com/sfu-db/dataprep#connector)\n",
    "* [User Guide](https://sfu-db.github.io/dataprep/user_guide/connector/connector.html) \n",
    "* [Examples](https://github.com/sfu-db/dataprep/tree/develop/examples)\n",
    "* [Fetch and analyze COVID-19 tweets using DataPrep](https://www.youtube.com/watch?v=vvypQB3Vp1o)"
   ]
  },
  {
   "cell_type": "markdown",
   "metadata": {},
   "source": [
    "## Overview"
   ]
  },
  {
   "attachments": {},
   "cell_type": "markdown",
   "metadata": {},
   "source": [
    "This is a **group** assignment. \n",
    "Please check your group in this [PDF file](https://coursys.sfu.ca/2022sp-cmpt-733-g1/pages/Web-API-Assignment/view).\n",
    "\n",
    "To do this assignment, your group needs to go through four steps:\n",
    "\n",
    "1. Select a new Web API that is not listed on https://github.com/sfu-db/APIConnectors. \n",
    "2. Create a configuration file for the API (see tutorials at [link1](https://github.com/sfu-db/APIConnectors/blob/develop/CONTRIBUTING.md#add-configuration-files) and [link2](https://github.com/sfu-db/EZHacks-tutorial/blob/master/2.%20Tutorial.ipynb)). \n",
    "3. Come up with four questions about the API. \n",
    "4. Write code to answer these questions one by one.\n",
    "\n",
    "For Step 3, please make sure your questions are **good**."
   ]
  },
  {
   "cell_type": "markdown",
   "metadata": {},
   "source": [
    "## What are \"good questions\"?"
   ]
  },
  {
   "attachments": {},
   "cell_type": "markdown",
   "metadata": {},
   "source": [
    "Please use the following to judge whether your questions are good or not.\n",
    "\n",
    "1. Good questions need to be useful. That is, they are either common questions asked about the API or are exploring novel use cases.\n",
    "2. Good questions need to be diverse. That is, they cover different aspects of the API. \n",
    "3. Good questions have to cover different difficulty levels. That is, it consists of both easy and difficult questions,  where the difficulty can be measured by the number of lines of code or the number of input parameters.\n",
    "\n",
    "The following shows four good questions about the Yelp API. The corresponding code can be found at this [link](https://github.com/sfu-db/DataConnectorConfigs#yelp----collect-local-business-data)."
   ]
  },
  {
   "cell_type": "markdown",
   "metadata": {},
   "source": [
    "* Q1. What's the phone number of Capilano Suspension Bridge Park?\n",
    "* Q2. Which yoga store has the highest review count in Vancouver?\n",
    "* Q3. How many Starbucks stores are in Seattle and where are they?\n",
    "* Q4. What are the ratings for a list of restaurants?"
   ]
  },
  {
   "cell_type": "markdown",
   "metadata": {},
   "source": [
    "**Why are they useful?**\n",
    "* Q1 is useful because \"Capilano Suspension Bridge Park\" is one of the most popular tourist attractions in Vancouver.\n",
    "* Q2 is useful because a yoga fan wants to find out the most popular yoga store in Vancouver. \n",
    "* Q3 is useful because Starbucks was founded in Seattle.\n",
    "* Q4 is useful because people often rely on yelp ratings to decide which restaurant to go to."
   ]
  },
  {
   "cell_type": "markdown",
   "metadata": {},
   "source": [
    "**Why are they diverse?**\n",
    "\n",
    "This is because the [code](yelp-code.png) written to answer them has different inputs or outputs.\n",
    "* Q1 takes `term` and `location` as input and returns 1 record with attributes `name` and `phone` \n",
    "* Q2 takes `categories`, `location`, and `sort_by` as input and returns 1 record with attributes `name` and `review_count`\n",
    "* Q3 takes `term` and `location` as input and returns n records with attributes `name`, `address`, `city`, `state`, `country`, `zipcode`\n",
    "* Q4 takes a list of retarurant `names` as input and return n records with attributes `name`, `rating`, `city`"
   ]
  },
  {
   "cell_type": "markdown",
   "metadata": {},
   "source": [
    "**Why are they more and more difficult?**\n",
    "* Q1 (4 lines of code, 2 query parameters)\n",
    "* Q2 (4 lines of code, 3 query parameters)\n",
    "* Q3 (5 lines of code, 2 query parameters)\n",
    "* Q4 (11 lines of code, 2 query parameters)"
   ]
  },
  {
   "attachments": {},
   "cell_type": "markdown",
   "metadata": {},
   "source": [
    "Please note that you have to use DataPrep.Connector to get data from the Web API. If DataPrep.Connector cannot meet your needs, please post your questions on Teams (Channel: Assignment 1). We will help you. "
   ]
  },
  {
   "cell_type": "markdown",
   "metadata": {},
   "source": [
    "## Now, it's your turn. :) "
   ]
  },
  {
   "cell_type": "markdown",
   "metadata": {},
   "source": [
    "Please write down your questions and the corresponding code for your assigned API. "
   ]
  },
  {
   "cell_type": "code",
   "execution_count": 1,
   "metadata": {},
   "outputs": [],
   "source": [
    "## Provide your API key here for TAs to reproduce your results\n",
    "import pandas as pd\n",
    "from dataprep.connector import connect\n",
    "\n",
    "APIKEY = 'af093fe5ad9cc1c2125e2464c51b4edd'\n",
    "\n",
    "conn_tmdb = connect(\"./tmdb\", _auth={\"access_token\":APIKEY})\n",
    "\n",
    "# Common function to get genres from a list of genre IDs\n",
    "\n",
    "genres = await conn_tmdb.query('movie_genres')\n",
    "genres_dict = {}\n",
    "for index, row in genres.iterrows():\n",
    "    genres_dict[row['id']] = row['name']\n",
    "    \n",
    "def get_genres_list(ids):\n",
    "    names = []\n",
    "    for id in ids:\n",
    "        names.append(genres_dict[id])\n",
    "    return names"
   ]
  },
  {
   "attachments": {},
   "cell_type": "markdown",
   "metadata": {},
   "source": [
    "### Q1 What is the release date of the movie \"Top Gun: Maverick\""
   ]
  },
  {
   "cell_type": "code",
   "execution_count": 2,
   "metadata": {},
   "outputs": [
    {
     "data": {
      "text/html": [
       "<div>\n",
       "<style scoped>\n",
       "    .dataframe tbody tr th:only-of-type {\n",
       "        vertical-align: middle;\n",
       "    }\n",
       "\n",
       "    .dataframe tbody tr th {\n",
       "        vertical-align: top;\n",
       "    }\n",
       "\n",
       "    .dataframe thead th {\n",
       "        text-align: right;\n",
       "    }\n",
       "</style>\n",
       "<table border=\"1\" class=\"dataframe\">\n",
       "  <thead>\n",
       "    <tr style=\"text-align: right;\">\n",
       "      <th></th>\n",
       "      <th>original_title</th>\n",
       "      <th>release_date</th>\n",
       "    </tr>\n",
       "  </thead>\n",
       "  <tbody>\n",
       "    <tr>\n",
       "      <th>0</th>\n",
       "      <td>Top Gun: Maverick</td>\n",
       "      <td>2022-05-27</td>\n",
       "    </tr>\n",
       "  </tbody>\n",
       "</table>\n",
       "</div>"
      ],
      "text/plain": [
       "      original_title release_date\n",
       "0  Top Gun: Maverick   2022-05-27"
      ]
     },
     "execution_count": 2,
     "metadata": {},
     "output_type": "execute_result"
    }
   ],
   "source": [
    "query = \"Top Gun: Maverick\"\n",
    "movie = await conn_tmdb.query('search_movies', query=query)\n",
    "movie"
   ]
  },
  {
   "attachments": {},
   "cell_type": "markdown",
   "metadata": {},
   "source": [
    "### Q2 What are the top 10 popular movies playing now?"
   ]
  },
  {
   "cell_type": "code",
   "execution_count": 3,
   "metadata": {},
   "outputs": [
    {
     "data": {
      "text/html": [
       "<div>\n",
       "<style scoped>\n",
       "    .dataframe tbody tr th:only-of-type {\n",
       "        vertical-align: middle;\n",
       "    }\n",
       "\n",
       "    .dataframe tbody tr th {\n",
       "        vertical-align: top;\n",
       "    }\n",
       "\n",
       "    .dataframe thead th {\n",
       "        text-align: right;\n",
       "    }\n",
       "</style>\n",
       "<table border=\"1\" class=\"dataframe\">\n",
       "  <thead>\n",
       "    <tr style=\"text-align: right;\">\n",
       "      <th></th>\n",
       "      <th>title</th>\n",
       "      <th>release_date</th>\n",
       "      <th>popularity</th>\n",
       "      <th>vote_average</th>\n",
       "      <th>vote_count</th>\n",
       "      <th>genres</th>\n",
       "    </tr>\n",
       "  </thead>\n",
       "  <tbody>\n",
       "    <tr>\n",
       "      <th>0</th>\n",
       "      <td>Puss in Boots: The Last Wish</td>\n",
       "      <td>2022-12-21</td>\n",
       "      <td>9724</td>\n",
       "      <td>8.6</td>\n",
       "      <td>1322</td>\n",
       "      <td>[Animation, Action, Adventure, Comedy, Family,...</td>\n",
       "    </tr>\n",
       "    <tr>\n",
       "      <th>1</th>\n",
       "      <td>Violent Night</td>\n",
       "      <td>2022-12-02</td>\n",
       "      <td>2254</td>\n",
       "      <td>7.7</td>\n",
       "      <td>889</td>\n",
       "      <td>[Action, Comedy, Crime, Thriller]</td>\n",
       "    </tr>\n",
       "    <tr>\n",
       "      <th>2</th>\n",
       "      <td>M3GAN</td>\n",
       "      <td>2023-01-06</td>\n",
       "      <td>2067</td>\n",
       "      <td>7.2</td>\n",
       "      <td>201</td>\n",
       "      <td>[Science Fiction, Horror, Comedy]</td>\n",
       "    </tr>\n",
       "    <tr>\n",
       "      <th>4</th>\n",
       "      <td>The Pale Blue Eye</td>\n",
       "      <td>2022-12-23</td>\n",
       "      <td>637</td>\n",
       "      <td>7.1</td>\n",
       "      <td>495</td>\n",
       "      <td>[Mystery, Thriller, Horror, Crime]</td>\n",
       "    </tr>\n",
       "    <tr>\n",
       "      <th>3</th>\n",
       "      <td>Top Gun: Maverick</td>\n",
       "      <td>2022-05-27</td>\n",
       "      <td>519</td>\n",
       "      <td>8.3</td>\n",
       "      <td>5589</td>\n",
       "      <td>[Action, Drama]</td>\n",
       "    </tr>\n",
       "    <tr>\n",
       "      <th>5</th>\n",
       "      <td>A Man Called Otto</td>\n",
       "      <td>2023-01-06</td>\n",
       "      <td>294</td>\n",
       "      <td>7.0</td>\n",
       "      <td>43</td>\n",
       "      <td>[Comedy, Drama]</td>\n",
       "    </tr>\n",
       "    <tr>\n",
       "      <th>6</th>\n",
       "      <td>The Quintessential Quintuplets Movie</td>\n",
       "      <td>2022-12-02</td>\n",
       "      <td>176</td>\n",
       "      <td>8.7</td>\n",
       "      <td>151</td>\n",
       "      <td>[Animation, Comedy, Romance]</td>\n",
       "    </tr>\n",
       "    <tr>\n",
       "      <th>7</th>\n",
       "      <td>Babylon</td>\n",
       "      <td>2022-12-23</td>\n",
       "      <td>132</td>\n",
       "      <td>7.5</td>\n",
       "      <td>47</td>\n",
       "      <td>[Drama, Comedy]</td>\n",
       "    </tr>\n",
       "    <tr>\n",
       "      <th>8</th>\n",
       "      <td>The Whale</td>\n",
       "      <td>2022-12-16</td>\n",
       "      <td>108</td>\n",
       "      <td>7.4</td>\n",
       "      <td>23</td>\n",
       "      <td>[Drama]</td>\n",
       "    </tr>\n",
       "    <tr>\n",
       "      <th>10</th>\n",
       "      <td>Women Talking</td>\n",
       "      <td>2022-12-23</td>\n",
       "      <td>39</td>\n",
       "      <td>8.1</td>\n",
       "      <td>9</td>\n",
       "      <td>[Drama]</td>\n",
       "    </tr>\n",
       "  </tbody>\n",
       "</table>\n",
       "</div>"
      ],
      "text/plain": [
       "                                   title release_date  popularity  \\\n",
       "0           Puss in Boots: The Last Wish   2022-12-21        9724   \n",
       "1                          Violent Night   2022-12-02        2254   \n",
       "2                                  M3GAN   2023-01-06        2067   \n",
       "4                      The Pale Blue Eye   2022-12-23         637   \n",
       "3                      Top Gun: Maverick   2022-05-27         519   \n",
       "5                      A Man Called Otto   2023-01-06         294   \n",
       "6   The Quintessential Quintuplets Movie   2022-12-02         176   \n",
       "7                                Babylon   2022-12-23         132   \n",
       "8                              The Whale   2022-12-16         108   \n",
       "10                         Women Talking   2022-12-23          39   \n",
       "\n",
       "    vote_average  vote_count  \\\n",
       "0            8.6        1322   \n",
       "1            7.7         889   \n",
       "2            7.2         201   \n",
       "4            7.1         495   \n",
       "3            8.3        5589   \n",
       "5            7.0          43   \n",
       "6            8.7         151   \n",
       "7            7.5          47   \n",
       "8            7.4          23   \n",
       "10           8.1           9   \n",
       "\n",
       "                                               genres  \n",
       "0   [Animation, Action, Adventure, Comedy, Family,...  \n",
       "1                   [Action, Comedy, Crime, Thriller]  \n",
       "2                   [Science Fiction, Horror, Comedy]  \n",
       "4                  [Mystery, Thriller, Horror, Crime]  \n",
       "3                                     [Action, Drama]  \n",
       "5                                     [Comedy, Drama]  \n",
       "6                        [Animation, Comedy, Romance]  \n",
       "7                                     [Drama, Comedy]  \n",
       "8                                             [Drama]  \n",
       "10                                            [Drama]  "
      ]
     },
     "execution_count": 3,
     "metadata": {},
     "output_type": "execute_result"
    }
   ],
   "source": [
    "# parameter region accept a ISO 3166-1 value.  https://en.wikipedia.org/wiki/ISO_3166-1\n",
    "now_playing = await conn_tmdb.query('now_playing', region=\"CA\")\n",
    "now_playing['genres']=now_playing['genre_ids'].map(lambda x:get_genres_list(x))\n",
    "df = now_playing.drop(columns=['genre_ids'])\\\n",
    "                .sort_values(by=\"popularity\", ascending=False)\\\n",
    "                .head(10)\n",
    "df"
   ]
  },
  {
   "attachments": {},
   "cell_type": "markdown",
   "metadata": {},
   "source": [
    "### Q3 What are the movies of \"Viggo Mortensen\" and \"Liv Tyler\" act together?"
   ]
  },
  {
   "cell_type": "code",
   "execution_count": 4,
   "metadata": {},
   "outputs": [
    {
     "data": {
      "text/html": [
       "<div>\n",
       "<style scoped>\n",
       "    .dataframe tbody tr th:only-of-type {\n",
       "        vertical-align: middle;\n",
       "    }\n",
       "\n",
       "    .dataframe tbody tr th {\n",
       "        vertical-align: top;\n",
       "    }\n",
       "\n",
       "    .dataframe thead th {\n",
       "        text-align: right;\n",
       "    }\n",
       "</style>\n",
       "<table border=\"1\" class=\"dataframe\">\n",
       "  <thead>\n",
       "    <tr style=\"text-align: right;\">\n",
       "      <th></th>\n",
       "      <th>movie_id</th>\n",
       "      <th>title</th>\n",
       "      <th>vote_average</th>\n",
       "      <th>overview</th>\n",
       "      <th>popularity</th>\n",
       "      <th>release_date</th>\n",
       "    </tr>\n",
       "  </thead>\n",
       "  <tbody>\n",
       "    <tr>\n",
       "      <th>0</th>\n",
       "      <td>120</td>\n",
       "      <td>The Lord of the Rings: The Fellowship of the Ring</td>\n",
       "      <td>8.391</td>\n",
       "      <td>Young hobbit Frodo Baggins, after inheriting a...</td>\n",
       "      <td>95.532</td>\n",
       "      <td>2001-12-18</td>\n",
       "    </tr>\n",
       "    <tr>\n",
       "      <th>1</th>\n",
       "      <td>121</td>\n",
       "      <td>The Lord of the Rings: The Two Towers</td>\n",
       "      <td>8.374</td>\n",
       "      <td>Frodo and Sam are trekking to Mordor to destro...</td>\n",
       "      <td>78.134</td>\n",
       "      <td>2002-12-18</td>\n",
       "    </tr>\n",
       "    <tr>\n",
       "      <th>2</th>\n",
       "      <td>122</td>\n",
       "      <td>The Lord of the Rings: The Return of the King</td>\n",
       "      <td>8.470</td>\n",
       "      <td>Aragorn is revealed as the heir to the ancient...</td>\n",
       "      <td>87.679</td>\n",
       "      <td>2003-12-01</td>\n",
       "    </tr>\n",
       "    <tr>\n",
       "      <th>3</th>\n",
       "      <td>71506</td>\n",
       "      <td>Ringers: Lord of the Fans</td>\n",
       "      <td>6.400</td>\n",
       "      <td>'Ringers: Lord of the Fans' is a feature-lengt...</td>\n",
       "      <td>3.657</td>\n",
       "      <td>2005-01-21</td>\n",
       "    </tr>\n",
       "    <tr>\n",
       "      <th>4</th>\n",
       "      <td>445652</td>\n",
       "      <td>Quest for the Ring</td>\n",
       "      <td>6.200</td>\n",
       "      <td></td>\n",
       "      <td>1.141</td>\n",
       "      <td>2001-11-29</td>\n",
       "    </tr>\n",
       "    <tr>\n",
       "      <th>5</th>\n",
       "      <td>453779</td>\n",
       "      <td>A Passage to Middle-earth: Making of 'Lord of ...</td>\n",
       "      <td>6.400</td>\n",
       "      <td></td>\n",
       "      <td>2.786</td>\n",
       "      <td>2001-12-09</td>\n",
       "    </tr>\n",
       "    <tr>\n",
       "      <th>6</th>\n",
       "      <td>37757</td>\n",
       "      <td>Never Sleep Again: The Elm Street Legacy</td>\n",
       "      <td>7.929</td>\n",
       "      <td>For decades, Freddy Krueger has slashed his wa...</td>\n",
       "      <td>12.119</td>\n",
       "      <td>2010-05-04</td>\n",
       "    </tr>\n",
       "  </tbody>\n",
       "</table>\n",
       "</div>"
      ],
      "text/plain": [
       "   movie_id                                              title  vote_average  \\\n",
       "0       120  The Lord of the Rings: The Fellowship of the Ring         8.391   \n",
       "1       121              The Lord of the Rings: The Two Towers         8.374   \n",
       "2       122      The Lord of the Rings: The Return of the King         8.470   \n",
       "3     71506                          Ringers: Lord of the Fans         6.400   \n",
       "4    445652                                 Quest for the Ring         6.200   \n",
       "5    453779  A Passage to Middle-earth: Making of 'Lord of ...         6.400   \n",
       "6     37757           Never Sleep Again: The Elm Street Legacy         7.929   \n",
       "\n",
       "                                            overview  popularity release_date  \n",
       "0  Young hobbit Frodo Baggins, after inheriting a...      95.532   2001-12-18  \n",
       "1  Frodo and Sam are trekking to Mordor to destro...      78.134   2002-12-18  \n",
       "2  Aragorn is revealed as the heir to the ancient...      87.679   2003-12-01  \n",
       "3  'Ringers: Lord of the Fans' is a feature-lengt...       3.657   2005-01-21  \n",
       "4                                                          1.141   2001-11-29  \n",
       "5                                                          2.786   2001-12-09  \n",
       "6  For decades, Freddy Krueger has slashed his wa...      12.119   2010-05-04  "
      ]
     },
     "execution_count": 4,
     "metadata": {},
     "output_type": "execute_result"
    }
   ],
   "source": [
    "actor1_df = await conn_tmdb.query(\"search_person\", query=\"Viggo Mortensen\")\n",
    "actor2_df = await conn_tmdb.query(\"search_person\", query=\"Liv Tyler\")\n",
    "movie_credit_1_df = await conn_tmdb.query(\"movie_credit\", person_id=actor1_df['id'][0])\n",
    "movie_credit_1_df = movie_credit_1_df.drop(columns=['genre_ids'])\n",
    "movie_credit_2_df = await conn_tmdb.query(\"movie_credit\", person_id=actor2_df['id'][0])\n",
    "movie_credit_2_df = movie_credit_2_df.drop(columns=['genre_ids'])\n",
    "result = pd.merge(movie_credit_1_df, movie_credit_2_df, how=\"inner\")\n",
    "result"
   ]
  },
  {
   "cell_type": "markdown",
   "metadata": {},
   "source": [
    "### Q4 Tom Cruise's Top 5 Action Movies?"
   ]
  },
  {
   "cell_type": "code",
   "execution_count": 5,
   "metadata": {},
   "outputs": [
    {
     "data": {
      "text/html": [
       "<div>\n",
       "<style scoped>\n",
       "    .dataframe tbody tr th:only-of-type {\n",
       "        vertical-align: middle;\n",
       "    }\n",
       "\n",
       "    .dataframe tbody tr th {\n",
       "        vertical-align: top;\n",
       "    }\n",
       "\n",
       "    .dataframe thead th {\n",
       "        text-align: right;\n",
       "    }\n",
       "</style>\n",
       "<table border=\"1\" class=\"dataframe\">\n",
       "  <thead>\n",
       "    <tr style=\"text-align: right;\">\n",
       "      <th></th>\n",
       "      <th>title</th>\n",
       "      <th>genres</th>\n",
       "      <th>vote_average</th>\n",
       "      <th>release_date</th>\n",
       "    </tr>\n",
       "  </thead>\n",
       "  <tbody>\n",
       "    <tr>\n",
       "      <th>42</th>\n",
       "      <td>Top Gun: Maverick</td>\n",
       "      <td>Action, Drama</td>\n",
       "      <td>8.334</td>\n",
       "      <td>2022-05-27</td>\n",
       "    </tr>\n",
       "    <tr>\n",
       "      <th>31</th>\n",
       "      <td>Edge of Tomorrow</td>\n",
       "      <td>Action, Science Fiction</td>\n",
       "      <td>7.597</td>\n",
       "      <td>2014-05-27</td>\n",
       "    </tr>\n",
       "    <tr>\n",
       "      <th>3</th>\n",
       "      <td>The Last Samurai</td>\n",
       "      <td>Drama, Action, War</td>\n",
       "      <td>7.561</td>\n",
       "      <td>2003-12-05</td>\n",
       "    </tr>\n",
       "    <tr>\n",
       "      <th>34</th>\n",
       "      <td>Mission: Impossible - Fallout</td>\n",
       "      <td>Action, Adventure</td>\n",
       "      <td>7.400</td>\n",
       "      <td>2018-07-13</td>\n",
       "    </tr>\n",
       "    <tr>\n",
       "      <th>1</th>\n",
       "      <td>Minority Report</td>\n",
       "      <td>Action, Thriller, Science Fiction, Mystery</td>\n",
       "      <td>7.334</td>\n",
       "      <td>2002-06-20</td>\n",
       "    </tr>\n",
       "  </tbody>\n",
       "</table>\n",
       "</div>"
      ],
      "text/plain": [
       "                            title                                      genres  \\\n",
       "42              Top Gun: Maverick                               Action, Drama   \n",
       "31               Edge of Tomorrow                     Action, Science Fiction   \n",
       "3                The Last Samurai                          Drama, Action, War   \n",
       "34  Mission: Impossible - Fallout                           Action, Adventure   \n",
       "1                 Minority Report  Action, Thriller, Science Fiction, Mystery   \n",
       "\n",
       "    vote_average release_date  \n",
       "42         8.334   2022-05-27  \n",
       "31         7.597   2014-05-27  \n",
       "3          7.561   2003-12-05  \n",
       "34         7.400   2018-07-13  \n",
       "1          7.334   2002-06-20  "
      ]
     },
     "execution_count": 5,
     "metadata": {},
     "output_type": "execute_result"
    }
   ],
   "source": [
    "actor = await conn_tmdb.query(\"search_person\", query=\"Tom Cruise\")\n",
    "actor_id = actor['id'][0]\n",
    "movies = await conn_tmdb.query(\"movie_credit\", person_id=actor_id)\n",
    "movies['genres'] = movies['genre_ids'].map(lambda x: ', '.join(get_genres_list(x)))\n",
    "movies = movies[movies['genres'].str.contains('Action')]\n",
    "top_rated = movies.sort_values(by=\"vote_average\", ascending=False).head(5)\n",
    "top_rated = top_rated[['title', 'genres', 'vote_average', 'release_date']]\n",
    "top_rated"
   ]
  },
  {
   "cell_type": "markdown",
   "metadata": {},
   "source": [
    "## Submission"
   ]
  },
  {
   "cell_type": "markdown",
   "metadata": {},
   "source": [
    "Complete this notebook, rename it to `A1-2-[WEB API Name].ipynb`, and submit it along with your config files to the CourSys activity `Assignment 1 - Part 2`. For example, if your group works on Yelp, then **every member of your group** needs to submit the same notebook named `A1-2-Yelp.ipynb` and the config files named `config.zip`."
   ]
  }
 ],
 "metadata": {
  "kernelspec": {
   "display_name": "Python 3",
   "language": "python",
   "name": "python3"
  },
  "language_info": {
   "codemirror_mode": {
    "name": "ipython",
    "version": 3
   },
   "file_extension": ".py",
   "mimetype": "text/x-python",
   "name": "python",
   "nbconvert_exporter": "python",
   "pygments_lexer": "ipython3",
   "version": "3.8.10"
  },
  "vscode": {
   "interpreter": {
    "hash": "caf071e77f15db9b7558d96aac6bca75058ffdc31b448950629db06f5be10829"
   }
  }
 },
 "nbformat": 4,
 "nbformat_minor": 1
}
